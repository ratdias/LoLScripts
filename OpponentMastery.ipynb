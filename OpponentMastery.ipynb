{
  "nbformat": 4,
  "nbformat_minor": 0,
  "metadata": {
    "colab": {
      "provenance": [],
      "authorship_tag": "ABX9TyM/u/EPnQH0/R8BfP3yKG7m",
      "include_colab_link": true
    },
    "kernelspec": {
      "name": "python3",
      "display_name": "Python 3"
    },
    "language_info": {
      "name": "python"
    }
  },
  "cells": [
    {
      "cell_type": "markdown",
      "metadata": {
        "id": "view-in-github",
        "colab_type": "text"
      },
      "source": [
        "<a href=\"https://colab.research.google.com/github/ratdias/LoLScripts/blob/main/OpponentMastery.ipynb\" target=\"_parent\"><img src=\"https://colab.research.google.com/assets/colab-badge.svg\" alt=\"Open In Colab\"/></a>"
      ]
    },
    {
      "cell_type": "code",
      "execution_count": null,
      "metadata": {
        "colab": {
          "base_uri": "https://localhost:8080/",
          "height": 211
        },
        "id": "RKMfVX_2-92K",
        "outputId": "b182c3e8-a3fa-4261-a740-0b020920450b"
      },
      "outputs": [
        {
          "output_type": "error",
          "ename": "NameError",
          "evalue": "name 'riot_id' is not defined",
          "traceback": [
            "\u001b[0;31m---------------------------------------------------------------------------\u001b[0m",
            "\u001b[0;31mNameError\u001b[0m                                 Traceback (most recent call last)",
            "\u001b[0;32m<ipython-input-78-457650af4280>\u001b[0m in \u001b[0;36m<cell line: 4>\u001b[0;34m()\u001b[0m\n\u001b[1;32m      2\u001b[0m \u001b[0mapi_key\u001b[0m \u001b[0;34m=\u001b[0m \u001b[0;34m\"RGAPI-a27c4f78-7148-4b22-b0aa-b65036590416\"\u001b[0m\u001b[0;34m\u001b[0m\u001b[0;34m\u001b[0m\u001b[0m\n\u001b[1;32m      3\u001b[0m \u001b[0;31m#get PUUID\u001b[0m\u001b[0;34m\u001b[0m\u001b[0;34m\u001b[0m\u001b[0m\n\u001b[0;32m----> 4\u001b[0;31m \u001b[0mpuuid_url\u001b[0m \u001b[0;34m=\u001b[0m \u001b[0;34m\"https://americas.api.riotgames.com/riot/account/v1/accounts/by-riot-id/\"\u001b[0m \u001b[0;34m+\u001b[0m \u001b[0mriot_id\u001b[0m \u001b[0;34m+\u001b[0m\u001b[0;34m\"?api_key=\"\u001b[0m \u001b[0;34m+\u001b[0m \u001b[0mapi_key\u001b[0m\u001b[0;34m\u001b[0m\u001b[0;34m\u001b[0m\u001b[0m\n\u001b[0m\u001b[1;32m      5\u001b[0m \u001b[0mPUUIDresponse\u001b[0m \u001b[0;34m=\u001b[0m \u001b[0mrequests\u001b[0m\u001b[0;34m.\u001b[0m\u001b[0mget\u001b[0m\u001b[0;34m(\u001b[0m\u001b[0mpuuid_url\u001b[0m\u001b[0;34m)\u001b[0m\u001b[0;34m\u001b[0m\u001b[0;34m\u001b[0m\u001b[0m\n\u001b[1;32m      6\u001b[0m \u001b[0mdata\u001b[0m \u001b[0;34m=\u001b[0m \u001b[0mPUUIDresponse\u001b[0m\u001b[0;34m.\u001b[0m\u001b[0mjson\u001b[0m\u001b[0;34m(\u001b[0m\u001b[0;34m)\u001b[0m\u001b[0;34m\u001b[0m\u001b[0;34m\u001b[0m\u001b[0m\n",
            "\u001b[0;31mNameError\u001b[0m: name 'riot_id' is not defined"
          ]
        }
      ],
      "source": [
        "import requests\n",
        "api_key = \"RGAPI-a27c4f78-7148-4b22-b0aa-b65036590416\"\n",
        "your_riot_id=\"\"\n",
        "#get PUUID\n",
        "puuid_url = \"https://americas.api.riotgames.com/riot/account/v1/accounts/by-riot-id/\" + your_riot_id +\"?api_key=\" + api_key\n",
        "PUUIDresponse = requests.get(puuid_url)\n",
        "data = PUUIDresponse.json()\n",
        "puuid = data['puuid']\n",
        "\n",
        "#use puuid to find most recent match\n",
        "url = \"https://americas.api.riotgames.com/lol/match/v5/matches/by-puuid/\" + puuid +\"/ids?start=0&count=20&api_key=\" + api_key\n",
        "\n",
        "response_most_recent_match = requests.get(url)\n",
        "\n",
        "\n",
        "comma_index = response_most_recent_match.text.find(',')\n",
        "cleaned_match_response = response_most_recent_match.text[2:comma_index-1]\n",
        "\n",
        "#use match id to find info about the players\n",
        "\n",
        "url2 = \"https://americas.api.riotgames.com/lol/match/v5/matches/\" + cleaned_match_response + \"?api_key=\" + api_key\n",
        "\n",
        "response_most_recent_match_info = requests.get(url2)\n",
        "data1 = response_most_recent_match_info.json()\n",
        "participants = data1['info']['participants']\n",
        "\n",
        "\n",
        "\n",
        "# Function to find the dictionary with the target puuid\n",
        "def find_dict_by_puuid(dict_list, target_puuid):\n",
        "    for dictionary in dict_list:\n",
        "        if dictionary.get('puuid') == target_puuid:\n",
        "            return dictionary\n",
        "    return None\n",
        "\n",
        "# Find the dictionary\n",
        "result_dict = find_dict_by_puuid(participants, puuid)\n",
        "\n",
        "# Output the result\n",
        "\n",
        "position_played = result_dict['individualPosition']\n",
        "\n",
        "\n",
        "# Function to find the dictionary with the target puuid\n",
        "def find_player_by_position(dict_list, position_played):\n",
        "    for dictionary in dict_list:\n",
        "        if dictionary.get('individualPosition') == position_played:\n",
        "          if dictionary.get('puuid') != puuid:\n",
        "            return dictionary\n",
        "    return None\n",
        "\n",
        "opponent_info = find_player_by_position(participants, position_played)\n",
        "\n",
        "\n",
        "opponent_puuid = opponent_info['puuid']\n",
        "\n",
        "\n",
        "#finally get the masteries\n",
        "\n",
        "masteries_url = \"https://na1.api.riotgames.com/lol/champion-mastery/v4/champion-masteries/by-puuid/\" + opponent_puuid +\"/top?count=3&api_key=\" + api_key\n",
        "\n",
        "response_masteries = requests.get(masteries_url)\n",
        "data = response_masteries.json()\n",
        "arr = [data[i]['championId'] for i in range(3)]\n",
        "champions_url = \"https://ddragon.leagueoflegends.com/cdn/14.12.1/data/en_US/champion.json\"\n",
        "\n",
        "champions_info = requests.get(champions_url)\n",
        "data = champions_info.json()\n",
        "champions = data['data']\n",
        "\n",
        "def print_champ_name(champions, array):\n",
        "  for champ in champions:\n",
        "    if int(champions[champ]['key']) in arr:\n",
        "      print(champions[champ]['id'])\n",
        "\n",
        "print_champ_name(champions, arr)"
      ]
    }
  ]
}